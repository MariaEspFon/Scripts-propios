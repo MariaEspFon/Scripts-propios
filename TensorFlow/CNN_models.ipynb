{
  "cells": [
    {
      "cell_type": "markdown",
      "metadata": {
        "id": "view-in-github",
        "colab_type": "text"
      },
      "source": [
        "<a href=\"https://colab.research.google.com/github/MariaEspFon/Scripts-propios/blob/main/TensorFlow/CNN_models.ipynb\" target=\"_parent\"><img src=\"https://colab.research.google.com/assets/colab-badge.svg\" alt=\"Open In Colab\"/></a>"
      ]
    },
    {
      "cell_type": "markdown",
      "metadata": {
        "id": "FKNAOn5Ia7pG"
      },
      "source": [
        "\n",
        "# PRUEBAS CON DATASET 7\n",
        "\n",
        "19 características\n",
        "TEMPORALES: media, mediana, desv.típica, max, min, desv.típica 1ªdif, mediana 1ªdif, desv.típica 2ªdif, AuC, curtosis\n",
        "FRECUENCIA: potencia, banda de potencia 99%, máximo de la BW99%\n",
        "TÓNICA: Auc, media, desv.típica\n",
        "FÁSICA: Auc, media, desv.típica"
      ]
    },
    {
      "cell_type": "markdown",
      "metadata": {
        "id": "HhxVlFL7j4N6"
      },
      "source": [
        "## 1. Inicialización de Keras y TensorFlow"
      ]
    },
    {
      "cell_type": "code",
      "execution_count": null,
      "metadata": {
        "id": "VcFrOCQOYU1R"
      },
      "outputs": [],
      "source": [
        "%tensorflow_version 2.x\n",
        "import tensorflow as tf\n",
        "print(\"GPU Available: \", tf.config.list_physical_devices('GPU'))\n",
        "\n",
        "print(\"TensorFlow version: \", tf.__version__)\n",
        "\n",
        "from tensorflow import keras\n",
        "#print(\"Keras version: \", tf.keras.__version__)\n",
        "\n",
        "import numpy as np\n",
        "import matplotlib.pyplot as plt\n",
        "import pandas as pd\n",
        "import math\n",
        "from math import ceil\n",
        "\n",
        "%reload_ext tensorboard"
      ]
    },
    {
      "cell_type": "markdown",
      "metadata": {
        "id": "DtndO_D__Z2T"
      },
      "source": [
        "## 2. Carga de datos EDA desde Github"
      ]
    },
    {
      "cell_type": "code",
      "source": [
        "x = input('Código del dataset: ')\n",
        "if x == '7':\n",
        "  url = 'https://raw.githubusercontent.com/MariaEspFon/Scripts-propios/main/MATLAB/EDA_D7_median.csv'\n",
        "  column_names = ['Mean','Median', 'Standard Dev', 'Max Value', 'Min Value', 'Standard Dev 1st diff', 'Median 1st diff', 'Standard Dev 2nd diff',\n",
        "                  'Total Area', 'Kurtosis', 'SCR','Power', '99% Bandwidth', 'Top Bandwidth Frequency',\n",
        "                  'Phasic mean', 'Phasic Stdev', 'Phasic AuC', 'Tonic mean', 'Tonic Stdev', 'Tonic AuC',\n",
        "                'State']\n",
        "elif x=='1':\n",
        "  url = 'https://raw.githubusercontent.com/MariaEspFon/Scripts-propios/main/MATLAB/EDA_D1.csv'\n",
        "  column_names = ['Median', 'Standard Dev', 'Max Value', 'Min Value', 'Total Area', 'nº SCR', 'Power', 'State']\n",
        "elif x=='2.1':\n",
        "  url = 'https://raw.githubusercontent.com/MariaEspFon/Scripts-propios/main/MATLAB/EDA_D21.csv'\n",
        "  column_names = ['Median', 'Standard Dev', 'Max Value', 'Min Value', 'Standard Dev 1st diff','Median 1st diff', #'Standard Dev 2nd diff',\n",
        "                'Total Area', 'nº SCR', 'Power', 'State']\n",
        "elif x=='2.2':\n",
        "  url = 'https://raw.githubusercontent.com/MariaEspFon/Scripts-propios/main/MATLAB/EDA_D22.csv'\n",
        "  column_names = ['Median', 'Standard Dev', 'Max Value', 'Min Value', 'Standard Dev 1st diff', 'Median 1st diff',\n",
        "                'nº SCR', 'Total Area', 'Power', 'State']\n",
        "elif x=='3':\n",
        "  url = 'https://raw.githubusercontent.com/MariaEspFon/Scripts-propios/main/MATLAB/EDA_D3.csv'\n",
        "  column_names = ['Median', 'Standard Dev', 'Max Value', 'Min Value', 'Standard Dev 1st diff', 'Median 1st diff', #'Standard Dev 2nd diff',\n",
        "                'Total Area', 'nº SCR', 'State']\n",
        "elif x=='4':\n",
        "  url = 'https://raw.githubusercontent.com/MariaEspFon/Scripts-propios/main/MATLAB/EDA_D4.csv'\n",
        "  column_names = ['Median', 'Standard Dev', 'Max Value', 'Min Value', 'Standard Dev 1st diff', 'Median 1st diff',\n",
        "                'Total Area', 'Power', 'State']\n",
        "elif x=='5':\n",
        "  url = 'https://raw.githubusercontent.com/MariaEspFon/Scripts-propios/main/MATLAB/EDA_D5.csv'\n",
        "  column_names = ['Mean', 'Median', 'Standard Dev', 'Max Value', 'Min Value',\n",
        "                'Standard Dev 1st diff','Median 1st diff', 'Standard Dev 2nd diff',\n",
        "                'Total Area', 'Kurtosis', 'Power', '99% Bandwidth', 'Top Bandwidth Frequency','State']\n",
        "elif x=='6':\n",
        "  url = 'https://raw.githubusercontent.com/MariaEspFon/Scripts-propios/main/MATLAB/EDA_D6.csv'\n",
        "  column_names = ['Mean','Median', 'Standard Dev', 'Max Value', 'Min Value',\n",
        "                'Standard Dev 1st diff', 'Median 1st diff', 'Standard Dev 2nd diff',\n",
        "                'Kurtosis', '99% Bandwidth', 'Top Bandwidth Frequency','State']\n",
        "else: print('Error: ingrese un código válido')"
      ],
      "metadata": {
        "id": "Uyg1kKkE6by1"
      },
      "execution_count": null,
      "outputs": []
    },
    {
      "cell_type": "code",
      "execution_count": null,
      "metadata": {
        "id": "niPo3Nfh-bVz"
      },
      "outputs": [],
      "source": [
        "raw_dataset = pd.read_csv(url, names=column_names, sep=',', skipinitialspace=True)\n",
        "clean_dataset = raw_dataset.dropna()\n",
        "\n",
        "size = clean_dataset.shape\n",
        "print(f'Formato del dataset: {size}')\n",
        "\n",
        "class_counts = clean_dataset['State'].value_counts()\n",
        "print(\"Recuento de instancias por clase:\")\n",
        "print(class_counts)"
      ]
    },
    {
      "cell_type": "code",
      "source": [
        "clean_dataset.head()  # muestra las primeras 5 filas por defecto"
      ],
      "metadata": {
        "id": "Lj9BOJARKEp7"
      },
      "execution_count": null,
      "outputs": []
    },
    {
      "cell_type": "code",
      "execution_count": null,
      "metadata": {
        "collapsed": true,
        "id": "WEvgfenf-pEf",
        "jupyter": {
          "outputs_hidden": true
        }
      },
      "outputs": [],
      "source": [
        "clean_dataset.tail() # muestra las últimas 5 filas por defecto"
      ]
    },
    {
      "cell_type": "markdown",
      "metadata": {
        "id": "Q9-FGkx3glzZ"
      },
      "source": [
        "## 3. Preprocesamiento de datos"
      ]
    },
    {
      "cell_type": "markdown",
      "metadata": {
        "id": "wBXjhOwa_eFh"
      },
      "source": [
        "### 3.1. Extracción de los conjuntos de entrenamiento, prueba y validación\n",
        "\n",
        "*   Datos de **entrenamiento**: para el aprendizaje de parámetros.\n",
        "*   Datos de **prueba**: para hacer test de predicciones.\n",
        "*   Datos de **validación**: para afinar hiperparámetros.\n",
        "\n"
      ]
    },
    {
      "cell_type": "code",
      "execution_count": 5,
      "metadata": {
        "id": "5yrXBybR_V7j"
      },
      "outputs": [],
      "source": [
        "# Extracción de subconjuntos: bloque de código para mantener la proporción de clases\n",
        "from sklearn.model_selection import train_test_split\n",
        "\n",
        "features = clean_dataset.drop('State', axis=1)\n",
        "labels = clean_dataset['State']\n",
        "train_dataset, test_dataset, train_labels, test_labels = train_test_split(features, labels, test_size=0.2, stratify=labels, random_state=0)"
      ]
    },
    {
      "cell_type": "code",
      "source": [
        "train_size = train_dataset.shape\n",
        "test_size = test_dataset.shape\n",
        "print(f'Formato del dataset de training: {train_size}')\n",
        "print(f'Formato del dataset de test: {test_size}')\n",
        "\n",
        "train_stats = train_dataset.describe()\n",
        "train_stats = train_stats.transpose()\n",
        "train_stats"
      ],
      "metadata": {
        "id": "Fe3MZcPQTEWx"
      },
      "execution_count": null,
      "outputs": []
    },
    {
      "cell_type": "markdown",
      "metadata": {
        "id": "syU3bAgjhaZb"
      },
      "source": [
        "### 3.2. Normalización y estandarización de todos los datos"
      ]
    },
    {
      "cell_type": "code",
      "execution_count": null,
      "metadata": {
        "id": "V6-D516VCSUe"
      },
      "outputs": [],
      "source": [
        "def norm(x):\n",
        "  return (x - train_stats['mean']) / train_stats['std']\n",
        "\n",
        "normed_train_data = norm(train_dataset)\n",
        "normed_test_data = norm(test_dataset)\n",
        "train_size = normed_train_data.shape\n",
        "test_size = normed_test_data.shape\n",
        "print(f'Formato del dataset de training: {train_size}')\n",
        "print(f'Formato del dataset de test: {test_size}')\n",
        "\n",
        "normed_train_stats = normed_train_data.describe()\n",
        "normed_train_stats = normed_train_stats.transpose()\n",
        "normed_train_stats"
      ]
    },
    {
      "cell_type": "markdown",
      "metadata": {
        "id": "qmNpCfOqCwqv"
      },
      "source": [
        "## 4. Creación del modelo CNN\n",
        "\n",
        "El primer modelo cuenta con 2 tipos de capas:\n",
        "*     Capas convolucionales con un número variable de filtros de (2x1) o (3x1).\n",
        "*     Capas densas en la salida para integrar toda la información convolucional y hacer la clasificación binaria (para la cual sólo es necesaria una neurona y una función sigmoid de activación).\n",
        "\n",
        "Además, se incluye una capa accesoria para preparar los datos antes de la capa de salida (capa Flatten)"
      ]
    },
    {
      "cell_type": "code",
      "source": [
        "from keras import Sequential, layers, activations"
      ],
      "metadata": {
        "id": "4WIII2WcuWtX"
      },
      "execution_count": 8,
      "outputs": []
    },
    {
      "cell_type": "markdown",
      "source": [
        "### 4.1 Modelos A y B"
      ],
      "metadata": {
        "id": "i6UKt5NV6wUk"
      }
    },
    {
      "cell_type": "code",
      "execution_count": null,
      "metadata": {
        "id": "aydxA-K9inqG"
      },
      "outputs": [],
      "source": [
        "def build_model_A(size):\n",
        "  model = Sequential()\n",
        "  model.add(layers.Conv1D(27, 2, strides=1, padding='same', activation='relu', input_shape=(size[1],1)))\n",
        "  model.add(layers.Flatten())\n",
        "  model.add(layers.Dense(22, activation='relu'))\n",
        "  model.add(layers.Dense(1, activation='sigmoid'))\n",
        "   # compilación del modelo\n",
        "  model.compile(loss='binary_crossentropy',\n",
        "                optimizer='adam',\n",
        "                metrics=['binary_accuracy','precision','recall',keras.metrics.F1Score()])\n",
        "  return model\n",
        "\n",
        "model = build_model_A(train_size)\n",
        "model.summary()"
      ]
    },
    {
      "cell_type": "code",
      "source": [
        "def build_model_B(size):\n",
        "  model = Sequential()\n",
        "  model.add(layers.Conv1D(27, 2, strides=1, padding='same', activation='relu', input_shape=(size[1],1)))\n",
        "  model.add(layers.Conv1D(22, 3, padding='same'))\n",
        "  model.add(layers.Flatten())\n",
        "  model.add(layers.Dense(22, activation='relu'))\n",
        "  model.add(layers.Dense(1, activation='sigmoid'))\n",
        "   # compilación del modelo\n",
        "  model.compile(loss='binary_crossentropy',\n",
        "                optimizer='adam',\n",
        "                metrics=['binary_accuracy','precision','recall',keras.metrics.F1Score()])\n",
        "  return model\n",
        "\n",
        "model = build_model_B(train_size)\n",
        "model.summary()"
      ],
      "metadata": {
        "id": "21NswWnSMZ70"
      },
      "execution_count": null,
      "outputs": []
    },
    {
      "cell_type": "markdown",
      "source": [
        "### 4.2 Modelos C"
      ],
      "metadata": {
        "id": "7M-gXJG462Nm"
      }
    },
    {
      "cell_type": "code",
      "source": [
        "def build_model_C1(size):\n",
        "  model = Sequential()\n",
        "  model.add(layers.Conv1D(27, 2, strides=1, padding='same', activation='relu', input_shape=(size[1],1)))\n",
        "  model.add(layers.BatchNormalization())\n",
        "  model.add(layers.Conv1D(22, 3, padding='same', activation='relu'))\n",
        "  model.add(layers.BatchNormalization())\n",
        "  model.add(layers.Conv1D(18, 3, padding='same', activation='relu'))\n",
        "  model.add(layers.BatchNormalization())\n",
        "  model.add(layers.Flatten())\n",
        "  model.add(layers.Dense(22, activation='relu'))\n",
        "  model.add(layers.Dense(1, activation='sigmoid'))\n",
        "   # compilación del modelo\n",
        "  model.compile(loss='binary_crossentropy',\n",
        "                optimizer='adam',\n",
        "                metrics=['binary_accuracy','precision','recall',keras.metrics.F1Score()])\n",
        "  return model\n",
        "\n",
        "model = build_model_C1(train_size)\n",
        "model.summary()"
      ],
      "metadata": {
        "id": "BIVNVf3nMdee"
      },
      "execution_count": null,
      "outputs": []
    },
    {
      "cell_type": "code",
      "source": [
        "def build_model_C2(size):\n",
        "  model = Sequential()\n",
        "  model.add(layers.Conv1D(27, 2, strides=1, padding='same', activation='relu', input_shape=(size[1],1)))\n",
        "  model.add(layers.Conv1D(22, 3, padding='same', activation='relu'))\n",
        "  model.add(layers.Conv1D(18, 3, padding='same', activation='relu'))\n",
        "  model.add(layers.Flatten())\n",
        "  model.add(layers.Dense(22, activation='relu'))\n",
        "  model.add(layers.Dense(1, activation='sigmoid'))\n",
        "   # compilación del modelo\n",
        "  model.compile(loss='binary_crossentropy',\n",
        "                optimizer='adam',\n",
        "                metrics=['binary_accuracy','precision','recall',keras.metrics.F1Score()])\n",
        "  return model\n",
        "\n",
        "model = build_model_C2(train_size)\n",
        "model.summary()"
      ],
      "metadata": {
        "id": "4Z64besHj8bH"
      },
      "execution_count": null,
      "outputs": []
    },
    {
      "cell_type": "code",
      "source": [
        "def build_model_C3(size):\n",
        "  model = Sequential()\n",
        "  model.add(layers.Conv1D(27, 2, strides=1, padding='same', activation='relu', input_shape=(size[1],1)))\n",
        "  model.add(layers.BatchNormalization())\n",
        "  model.add(layers.Conv1D(22, 3, padding='same', activation='relu'))\n",
        "  model.add(layers.BatchNormalization())\n",
        "  model.add(layers.Conv1D(18, 4, padding='same', activation='relu'))\n",
        "  model.add(layers.BatchNormalization())\n",
        "  model.add(layers.Flatten())\n",
        "  model.add(layers.Dense(22, activation='relu'))\n",
        "  model.add(layers.Dense(1, activation='sigmoid'))\n",
        "   # compilación del modelo\n",
        "  model.compile(loss='binary_crossentropy',\n",
        "                optimizer='adam',\n",
        "                metrics=['binary_accuracy','precision','recall',keras.metrics.F1Score()])\n",
        "  return model\n",
        "\n",
        "model = build_model_C3(train_size)\n",
        "model.summary()"
      ],
      "metadata": {
        "id": "0PLd8katj1jY"
      },
      "execution_count": null,
      "outputs": []
    },
    {
      "cell_type": "code",
      "source": [
        "def build_model_C4(size):\n",
        "  model = Sequential()\n",
        "  model.add(layers.Conv1D(27, 2, strides=1, padding='same', activation='relu', input_shape=(size[1],1)))\n",
        "  model.add(layers.Conv1D(22, 3, padding='same', activation='relu'))\n",
        "  model.add(layers.Conv1D(18, 4, padding='same', activation='relu'))\n",
        "  model.add(layers.Flatten())\n",
        "  model.add(layers.Dense(22, activation='relu'))\n",
        "  model.add(layers.Dense(1, activation='sigmoid'))\n",
        "   # compilación del modelo\n",
        "  model.compile(loss='binary_crossentropy',\n",
        "                optimizer='adam',\n",
        "                metrics=['binary_accuracy','precision','recall',keras.metrics.F1Score()])\n",
        "  return model\n",
        "\n",
        "model = build_model_C4(train_size)\n",
        "model.summary()"
      ],
      "metadata": {
        "id": "UWC3Xo75kBJ-"
      },
      "execution_count": null,
      "outputs": []
    },
    {
      "cell_type": "markdown",
      "source": [
        "### 4.3 Modelos D"
      ],
      "metadata": {
        "id": "9XU9wxVv66nY"
      }
    },
    {
      "cell_type": "code",
      "source": [
        "def build_model_D1(size):\n",
        "  model = Sequential()\n",
        "  model.add(layers.Conv1D(27, 2, strides=1, padding='same', activation='relu', input_shape=(size[1],1)))\n",
        "  model.add(layers.BatchNormalization())\n",
        "  model.add(layers.Conv1D(22, 3, padding='same', activation='relu'))\n",
        "  model.add(layers.BatchNormalization())\n",
        "  model.add(layers.Conv1D(18, 4, padding='same', activation='relu'))\n",
        "  model.add(layers.BatchNormalization())\n",
        "  model.add(layers.Conv1D(9, 5, padding='same', activation='relu'))\n",
        "  model.add(layers.BatchNormalization())\n",
        "  model.add(layers.Flatten())\n",
        "  model.add(layers.Dense(22, activation='relu'))\n",
        "  model.add(layers.Dense(1, activation='sigmoid'))\n",
        "   # compilación del modelo\n",
        "  model.compile(loss='binary_crossentropy',\n",
        "                optimizer='adam',\n",
        "                metrics=['binary_accuracy','precision','recall',keras.metrics.F1Score()])\n",
        "  return model\n",
        "\n",
        "model = build_model_D1(train_size)\n",
        "model.summary()"
      ],
      "metadata": {
        "id": "kt8XKXfT0iBi"
      },
      "execution_count": null,
      "outputs": []
    },
    {
      "cell_type": "code",
      "source": [
        "def build_model_D2(size):\n",
        "  model = Sequential()\n",
        "  model.add(layers.Conv1D(27, 2, strides=1, padding='valid', activation='relu', input_shape=(size[1],1)))\n",
        "  model.add(layers.BatchNormalization())\n",
        "  model.add(layers.Conv1D(22, 3, padding='valid', activation='relu'))\n",
        "  model.add(layers.BatchNormalization())\n",
        "  model.add(layers.Conv1D(18, 4, padding='valid', activation='relu'))\n",
        "  model.add(layers.BatchNormalization())\n",
        "  model.add(layers.Conv1D(9, 5, padding='valid', activation='relu'))\n",
        "  model.add(layers.BatchNormalization())\n",
        "  model.add(layers.Flatten())\n",
        "  model.add(layers.Dense(22, activation='relu'))\n",
        "  model.add(layers.Dense(1, activation='sigmoid'))\n",
        "   # compilación del modelo\n",
        "  model.compile(loss='binary_crossentropy',\n",
        "                optimizer='adam',\n",
        "                metrics=['binary_accuracy','precision','recall',keras.metrics.F1Score()])\n",
        "  return model\n",
        "\n",
        "model = build_model_D2(train_size)\n",
        "model.summary()"
      ],
      "metadata": {
        "id": "gxNGGDm407-2"
      },
      "execution_count": null,
      "outputs": []
    },
    {
      "cell_type": "code",
      "source": [
        "def build_model_D3(size):\n",
        "  model = Sequential()\n",
        "  model.add(layers.Conv1D(27, 2, strides=1, padding='same', input_shape=(size[1],1)))\n",
        "  model.add(layers.ELU(alpha=1.0))\n",
        "  model.add(layers.Conv1D(22, 3, padding='same'))\n",
        "  model.add(layers.ELU(alpha=1.0))\n",
        "  model.add(layers.Conv1D(18, 4, padding='same'))\n",
        "  model.add(layers.ELU(alpha=1.0))\n",
        "  model.add(layers.Conv1D(9, 5, padding='same'))\n",
        "  model.add(layers.ELU(alpha=1.0))\n",
        "  model.add(layers.Flatten())\n",
        "  model.add(layers.Dense(22, activation='relu'))\n",
        "  model.add(layers.Dense(1, activation='sigmoid'))\n",
        "  # compilación del modeo\n",
        "  model.compile(loss='binary_crossentropy',\n",
        "                optimizer='adam',\n",
        "                metrics=['binary_accuracy','precision','recall',keras.metrics.F1Score()])\n",
        "  return model\n",
        "\n",
        "model = build_model_D3(train_size)\n",
        "model.summary()"
      ],
      "metadata": {
        "id": "Ue7b3Ok_1Dlr"
      },
      "execution_count": null,
      "outputs": []
    },
    {
      "cell_type": "code",
      "source": [
        "def build_model_D4(size):\n",
        "  model = Sequential()\n",
        "  model.add(layers.Conv1D(27, 2, strides=1, padding='valid', input_shape=(size[1],1)))\n",
        "  model.add(layers.ELU(alpha=1.0))\n",
        "  model.add(layers.Conv1D(22, 3, padding='valid'))\n",
        "  model.add(layers.ELU(alpha=1.0))\n",
        "  model.add(layers.Conv1D(18, 4, padding='valid'))\n",
        "  model.add(layers.ELU(alpha=1.0))\n",
        "  model.add(layers.Conv1D(9, 5, padding='valid'))\n",
        "  model.add(layers.ELU(alpha=1.0))\n",
        "  model.add(layers.Flatten())\n",
        "  model.add(layers.Dense(22, activation='relu'))\n",
        "  model.add(layers.Dense(1, activation='sigmoid'))\n",
        "  # compilación del modeo\n",
        "  model.compile(loss='binary_crossentropy',\n",
        "                optimizer='adam',\n",
        "                metrics=['binary_accuracy','precision','recall',keras.metrics.F1Score()])\n",
        "  return model\n",
        "\n",
        "model = build_model_D4(train_size)\n",
        "model.summary()"
      ],
      "metadata": {
        "id": "fQLAdKocMfOQ"
      },
      "execution_count": null,
      "outputs": []
    },
    {
      "cell_type": "markdown",
      "metadata": {
        "id": "vdfftlXWEG-e"
      },
      "source": [
        "## 5. Entrenamiento del modelo\n",
        "\n",
        "Reservamos el 20% de los datos de entrenamiento para la validación del modelo"
      ]
    },
    {
      "cell_type": "code",
      "source": [
        "from keras import callbacks\n",
        "from keras.callbacks import EarlyStopping\n",
        "early_stopping = EarlyStopping(\n",
        "    monitor='val_loss',       # o 'val_accuracy'\n",
        "    patience=100,              # número de épocas que espera sin mejora\n",
        "    restore_best_weights=True  # para recuperar los mejores pesos\n",
        ")"
      ],
      "metadata": {
        "id": "tewrzIWTouhi"
      },
      "execution_count": null,
      "outputs": []
    },
    {
      "cell_type": "code",
      "execution_count": 13,
      "metadata": {
        "id": "fOaq8eGtCSkd"
      },
      "outputs": [],
      "source": [
        "EPOCHS = 1000\n",
        "#BATCH_SIZE = train_size[0]\n",
        "BATCH_SIZE = ceil(train_size[0]*0.1)\n",
        "history = model.fit(normed_train_data, train_labels, batch_size=BATCH_SIZE,\n",
        "                    epochs=EPOCHS, validation_split = 0.2, verbose=0)"
      ]
    },
    {
      "cell_type": "code",
      "execution_count": 25,
      "metadata": {
        "id": "PHxBjzT8Ep82",
        "outputId": "3d7731c6-7ce5-45fb-e423-10120a772e9f",
        "colab": {
          "base_uri": "https://localhost:8080/",
          "height": 455
        }
      },
      "outputs": [
        {
          "output_type": "display_data",
          "data": {
            "text/plain": [
              "<Figure size 640x480 with 1 Axes>"
            ],
            "image/png": "[encoded data removed]"
          },
          "metadata": {}
        }
      ],
      "source": [
        "def plot_history(history):\n",
        "  hist = pd.DataFrame(history.history)\n",
        "  hist['epoch'] = history.epoch\n",
        "\n",
        "  plt.figure()\n",
        "  plt.xlabel('Epoch')\n",
        "  plt.ylabel('Binary Crossentropy')\n",
        "  plt.plot(hist['epoch'], hist['binary_accuracy'],'r--',\n",
        "           label='Training Accuracy')\n",
        "  plt.plot(hist['epoch'], hist['val_binary_accuracy'],'b',\n",
        "           label = 'Validation Accuracy')\n",
        "  plt.ylim([0,1])\n",
        "  plt.legend()\n",
        "  plt.show()\n",
        "\n",
        "plot_history(history)"
      ]
    },
    {
      "cell_type": "markdown",
      "metadata": {
        "id": "O9M9YKiC-295"
      },
      "source": [
        "## 6. Validación del modelo con los datos de test\n"
      ]
    },
    {
      "cell_type": "code",
      "execution_count": 17,
      "metadata": {
        "colab": {
          "base_uri": "https://localhost:8080/"
        },
        "id": "cS6oqzXxT3AJ",
        "outputId": "18691de3-d232-498f-d531-38cf040b2b60"
      },
      "outputs": [
        {
          "output_type": "stream",
          "name": "stdout",
          "text": [
            "\u001b[1m1/1\u001b[0m \u001b[32m━━━━━━━━━━━━━━━━━━━━\u001b[0m\u001b[37m\u001b[0m \u001b[1m1s\u001b[0m 704ms/step - binary_accuracy: 0.8154 - f1_score: 0.7841 - loss: 1.6077 - precision: 0.8748 - recall: 0.8157\n",
            "Test accuracy: 81.54%\n",
            "Test loss: 1.608\n"
          ]
        }
      ],
      "source": [
        "test_loss, test_acc, test_precision, test_recall, test_f1 = model.evaluate(normed_test_data, test_labels, batch_size=(test_size[0]))\n",
        "print(f'Test accuracy: {100*test_acc:.2f}%')\n",
        "print(f'Test loss: {test_loss:.3f}')\n",
        "# TensorFlow imprime las métricas en orden alfabético por defecto en la consola,\n",
        "# pero el método evaluate() devuelve los valores en el mismo orden en que fueron definidos en model.compile()."
      ]
    },
    {
      "cell_type": "code",
      "source": [
        "from sklearn.metrics import confusion_matrix, classification_report\n",
        "import seaborn as sns\n",
        "\n",
        "predictions = model.predict(normed_test_data)\n",
        "predicted_labels = (predictions > 0.5).astype(int)\n",
        "cm = confusion_matrix(test_labels, predicted_labels)\n",
        "\n",
        "# Muestra la matriz de confusión\n",
        "def plot_confusion_matrix(cm):\n",
        "    plt.figure(figsize=(6, 4))\n",
        "    sns.heatmap(cm, annot=True, fmt='d', cmap='Blues', xticklabels=['Clase 0', 'Clase 1'], yticklabels=['Clase 0', 'Clase 1'])\n",
        "    plt.xlabel('Predicho')\n",
        "    plt.ylabel('Real')\n",
        "    plt.title('Matriz de Confusión')\n",
        "    plt.show()\n",
        "\n",
        "plot_confusion_matrix(cm)\n",
        "\n",
        "# Muestra métricas adicionales\n",
        "print(\"Reporte de clasificación:\")\n",
        "print(classification_report(test_labels, predicted_labels, target_names=['Clase 0', 'Clase 1']))\n"
      ],
      "metadata": {
        "id": "pNC3FQPQSI5f",
        "outputId": "b3d09963-0ad7-49a1-d037-bacc8360f343",
        "colab": {
          "base_uri": "https://localhost:8080/",
          "height": 601
        }
      },
      "execution_count": 18,
      "outputs": [
        {
          "output_type": "stream",
          "name": "stdout",
          "text": [
            "\u001b[1m28/28\u001b[0m \u001b[32m━━━━━━━━━━━━━━━━━━━━\u001b[0m\u001b[37m\u001b[0m \u001b[1m1s\u001b[0m 19ms/step\n"
          ]
        },
        {
          "output_type": "display_data",
          "data": {
            "text/plain": [
              "<Figure size 600x400 with 2 Axes>"
            ],
            "image/png": "[encoded data removed]"
          },
          "metadata": {}
        },
        {
          "output_type": "stream",
          "name": "stdout",
          "text": [
            "Reporte de clasificación:\n",
            "              precision    recall  f1-score   support\n",
            "\n",
            "     Clase 0       0.74      0.82      0.77       346\n",
            "     Clase 1       0.87      0.82      0.84       548\n",
            "\n",
            "    accuracy                           0.82       894\n",
            "   macro avg       0.81      0.82      0.81       894\n",
            "weighted avg       0.82      0.82      0.82       894\n",
            "\n"
          ]
        }
      ]
    }
  ],
  "metadata": {
    "accelerator": "GPU",
    "colab": {
      "gpuType": "T4",
      "provenance": [],
      "include_colab_link": true
    },
    "kernelspec": {
      "display_name": "Python 3 (ipykernel)",
      "language": "python",
      "name": "python3"
    },
    "language_info": {
      "codemirror_mode": {
        "name": "ipython",
        "version": 3
      },
      "file_extension": ".py",
      "mimetype": "text/x-python",
      "name": "python",
      "nbconvert_exporter": "python",
      "pygments_lexer": "ipython3",
      "version": "3.8.10"
    }
  },
  "nbformat": 4,
  "nbformat_minor": 0
}